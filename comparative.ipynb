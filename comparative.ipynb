{
 "cells": [
  {
   "cell_type": "markdown",
   "id": "e4644951",
   "metadata": {},
   "source": [
    "# **Análisis comparativo**"
   ]
  },
  {
   "cell_type": "markdown",
   "id": "f65fcf05",
   "metadata": {},
   "source": [
    "## Tabla comparativa de Resultados: Scikit-learn vs PySpark\n",
    "\n",
    "| Métrica | Scikit-learn | PySpark | Diferencia |\n",
    "|:---|:---:|:---:|:---:|\n",
    "| **Accuracy** | 0.4892 | 0.8288 | **+0.3396** (PySpark) |\n",
    "| **Precision (Clase 1)** | 0.2657 | 0.8006 | **+0.5349** (PySpark) |\n",
    "| **Recall (Clase 1)** | 0.8843 | 0.1853 | **-0.6990** (scikit-learn) |\n",
    "| **F1-Score (Clase 1)** | 0.4087 | 0.3010 | **-0.1077** (scikit-learn) |\n",
    "| **ROC AUC** | 0.7514 | 0.7440 | **-0.0074** (scikit-learn) |\n",
    "| **Tiempo Entrenamiento** | 200.36 s | 3738.77 s | **+3538.41 s** (PySpark) |\n"
   ]
  },
  {
   "cell_type": "markdown",
   "id": "090b5fc3",
   "metadata": {},
   "source": [
    "*   **PySpark domina en Accuracy y Precision:** \\\n",
    "     El modelo es mucho mejor prediciendo la clase correcta en general (Accuracy) y, crucialmente, cuando predice la clase `1`, es mucho más probable que sea correcto (Precision).\n",
    "*   **Scikit-learn domina en Recall:** \\\n",
    "     Es excelente para **encontrar** todos los casos de la clase `1` (bajo número de Falsos Negativos), pero a costa de generar muchos Falsos Positivos (baja Precision).\n",
    "*   **El trade-off es evidente:** \\\n",
    "     PySpark prioriza la **certeza** en las predicciones positivas, mientras que scikit-learn prioriza la **detección** de casos positivos. "
   ]
  },
  {
   "cell_type": "markdown",
   "id": "9b491fdd",
   "metadata": {},
   "source": [
    "**¿Qué entorno fue más rápido?** Scikit-learn fue significativamente más rápido en entrenamiento (200.36s vs 3738.77s), siendo aproximadamente 18 veces más rápido que PySpark.\n",
    "\n",
    "**¿Cuál más preciso?** Depende de la métrica considerada. PySpark obtuvo mejor accuracy general (82.88% vs 48.92%) y mucha mejor precision para la clase minoritaria (80.06% vs 26.57%). Sin embargo, scikit-learn mostró un recall excepcionalmente alto para la clase 1 (88.43% vs 18.53%), capturando muchos más verdaderos positivos. \n",
    "Siendo esta la mejor opción para el problema de estudio.\n",
    "\n",
    "**¿Cuándo es útil PySpark?** PySpark es esencial cuando: 1) Los datos son demasiado grandes para la memoria de una sola máquina, 2) Se requiere procesamiento distribuido en clusters, 3) Se necesita escalabilidad horizontal para grandes volúmenes de datos, 4) Se trabajan con flujos de datos en tiempo real.\n",
    "\n",
    "**¿Qué aporta LIME?** LIME proporciona explicaciones locales para predicciones individuales, ayudando a entender qué características específicas contribuyeron a cada predicción particular. En este caso la variable `tener_acuerdo_pago`, fue la variable de mayor importancia."
   ]
  }
 ],
 "metadata": {
  "language_info": {
   "name": "python"
  }
 },
 "nbformat": 4,
 "nbformat_minor": 5
}
