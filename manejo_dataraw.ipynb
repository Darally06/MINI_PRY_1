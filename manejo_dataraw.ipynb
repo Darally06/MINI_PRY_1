{
 "cells": [
  {
   "cell_type": "markdown",
   "id": "2238b59a",
   "metadata": {},
   "source": [
    "# **Preprocesamiento de datos**"
   ]
  },
  {
   "cell_type": "code",
   "execution_count": 1,
   "id": "46d08d28",
   "metadata": {
    "tags": [
     "remove_cell"
    ]
   },
   "outputs": [],
   "source": [
    "# Librerias\n",
    "import pandas as pd\n",
    "import numpy as np"
   ]
  },
  {
   "cell_type": "markdown",
   "id": "07a0a2c3",
   "metadata": {},
   "source": [
    "Para el caso de estudio, se preprocesan los datos dependiendo del contexto de cada variable. Intentando obtener el conjunto de variables que aporten en mayor medida a la clasificación de casos. "
   ]
  },
  {
   "cell_type": "markdown",
   "id": "7cdefa55",
   "metadata": {},
   "source": [
    "## **Reducción del dataset a la variable objetivo**\n",
    "Definición de la variable objetivo `default`.\\\n",
    "    Se fija: (1) _Default_ (0) _Fully Paid_"
   ]
  },
  {
   "cell_type": "code",
   "execution_count": 2,
   "id": "4075cf27",
   "metadata": {
    "tags": [
     "remove_cell"
    ]
   },
   "outputs": [
    {
     "name": "stdout",
     "output_type": "stream",
     "text": [
      "Dimensiones del DataFrame original: (2260701, 151)\n"
     ]
    }
   ],
   "source": [
    "# Lectura del dataset original\n",
    "file = r\"C:\\Users\\Hp\\Downloads\\accepted_2007_to_2018Q4.csv\\accepted_2007_to_2018Q4.csv\"\n",
    "df = pd.read_csv(file, low_memory=False)\n",
    "print(\"Dimensiones del DataFrame original:\", df.shape)"
   ]
  },
  {
   "cell_type": "code",
   "execution_count": 3,
   "id": "7d515289",
   "metadata": {},
   "outputs": [],
   "source": [
    "# Definición de la variable objetivo `default`\n",
    "df = df[df['loan_status'].isin(['Charged Off', 'Fully Paid'])].copy()\n",
    "df['default'] = df['loan_status'].apply(lambda x: 1 if x == 'Charged Off' else 0)\n",
    "df.drop(columns=['loan_status'], inplace=True)"
   ]
  },
  {
   "cell_type": "code",
   "execution_count": 4,
   "id": "1f6a1d43",
   "metadata": {
    "tags": [
     "remove-cell"
    ]
   },
   "outputs": [
    {
     "name": "stdout",
     "output_type": "stream",
     "text": [
      "Dimensiones del DataFrame con la variable objetivo: (1345310, 151)\n"
     ]
    }
   ],
   "source": [
    "print(\"Dimensiones del DataFrame con la variable objetivo:\", df.shape)"
   ]
  },
  {
   "cell_type": "code",
   "execution_count": 5,
   "id": "c2250f02",
   "metadata": {
    "tags": [
     "remove-cell"
    ]
   },
   "outputs": [],
   "source": [
    "# Ordenar columnas en orden alfabético\n",
    "df = df.reindex(sorted(df.columns), axis=1)"
   ]
  },
  {
   "cell_type": "markdown",
   "id": "1762fd57",
   "metadata": {},
   "source": [
    "## **Tratamiento de variables**"
   ]
  },
  {
   "cell_type": "markdown",
   "id": "14fd5fec",
   "metadata": {},
   "source": [
    "### **Reemplazo de valores inválidos con NA**\n",
    "Cambiar códigos especiales (-1, 999) por `NaN`."
   ]
  },
  {
   "cell_type": "code",
   "execution_count": 6,
   "id": "2217232a",
   "metadata": {
    "tags": [
     "hide-cell"
    ]
   },
   "outputs": [],
   "source": [
    "(df == -1).sum().sum(), (df == 999).sum().sum()\n",
    "cols_con_valores = df.columns[(df.isin([-1, 999])).any()]\n",
    "df[cols_con_valores] = df[cols_con_valores].replace([-1, 999], np.nan)"
   ]
  },
  {
   "cell_type": "markdown",
   "id": "55079744",
   "metadata": {},
   "source": [
    "### **Transformación y agregación**\n",
    "Ajustar formatos y creación de variables derivadas"
   ]
  },
  {
   "cell_type": "markdown",
   "id": "0f7cfae7",
   "metadata": {},
   "source": [
    "* Comportamiento o decisiones de los inversores."
   ]
  },
  {
   "cell_type": "code",
   "execution_count": 7,
   "id": "0fc90a0d",
   "metadata": {
    "tags": [
     "hide-cell"
    ]
   },
   "outputs": [],
   "source": [
    "# Variables de decisiones de los inversores\n",
    "# Lista de columnas que terminan en _inv\n",
    "inv_cols = [col for col in df.columns if col.endswith('_inv')]\n",
    "df.drop(columns=inv_cols, inplace=True)"
   ]
  },
  {
   "cell_type": "markdown",
   "id": "f82b59d2",
   "metadata": {},
   "source": [
    "* Variables de rangos, creación de una variable derivada con la media"
   ]
  },
  {
   "cell_type": "code",
   "execution_count": 8,
   "id": "454bc866",
   "metadata": {
    "tags": [
     "hide-cell"
    ]
   },
   "outputs": [],
   "source": [
    "# Buscar todas las columnas que terminan en _low\n",
    "low_cols = [col for col in df.columns if col.endswith('_low')]\n",
    "for low_col in low_cols:\n",
    "    high_col = low_col.replace('_low', '_high')\n",
    "    if high_col in df.columns:\n",
    "        mean_col = low_col.replace('_low', '_mean')\n",
    "        df[mean_col] = np.round((df[low_col] + df[high_col]) / 2, 2)\n",
    "        df.drop(columns=[low_col, high_col], inplace=True)"
   ]
  },
  {
   "cell_type": "markdown",
   "id": "876d4927",
   "metadata": {},
   "source": [
    "### **Codificación de variables categóricas**"
   ]
  },
  {
   "cell_type": "markdown",
   "id": "6a584dee",
   "metadata": {},
   "source": [
    "* **Extracción de codigo**\\\n",
    "Se extrae el código de la variable"
   ]
  },
  {
   "cell_type": "code",
   "execution_count": 9,
   "id": "5ce79c82",
   "metadata": {
    "tags": [
     "hide-cell"
    ]
   },
   "outputs": [],
   "source": [
    "# Extraer el número de sub_grade y obtener el número de sub_grade\n",
    "df['sub_grade_num'] = df['sub_grade'].str[1].astype(int)\n",
    "df.drop(columns=['sub_grade'], inplace=True)"
   ]
  },
  {
   "cell_type": "markdown",
   "id": "e6b1848b",
   "metadata": {},
   "source": [
    "* **Codificación Dummy**\n",
    "\n",
    "Conversion a variables dummy:\n",
    "|   Variable    |   Categorías  |   Codificación |\n",
    "|---------------|---------------|----------------|\n",
    "| `debt_settlement_flag`  | 'Y' - 'N'     | 1 - 0          |\n",
    "| `term`        | '36 months' - '60 months'  | 0-1 |\n",
    "| `initial_list_status` | 'w' - 'f'          | 0-1 |\n",
    "| `application_type`    | 'Individual' - 'Joint App' | 0-1          |\n",
    "| `disbursement_method` | 'Cash' - 'DirectPay'` | 0-1                |\n",
    "| `verification_status` | 'Not Verified' - 'Source Verified' - 'Verified' | 0-1-2                   |\n",
    "| `grade` | 'A' - 'B' - 'C' - 'D' - 'E' - 'F' - 'G' | 0-1-2-3-4-5-6                 |"
   ]
  },
  {
   "cell_type": "code",
   "execution_count": 10,
   "id": "31511dfa",
   "metadata": {
    "tags": [
     "hide-cell"
    ]
   },
   "outputs": [],
   "source": [
    "#Variables binarias con Y/N o y/n\n",
    "df['debt_settlement_flag'] = df['debt_settlement_flag'].apply(lambda x: 1 if x=='Y' else 0)\n",
    "\n",
    "# Diccionarios de mapeo para variables categoricas\n",
    "maps = {\n",
    "    'term': {' 36 months': 0, ' 60 months': 1},\n",
    "    'initial_list_status': {'w': 0, 'f': 1},\n",
    "    'application_type': {'Individual': 0, 'Joint App': 1},\n",
    "    'disbursement_method': {'Cash': 0, 'DirectPay': 1},\n",
    "    'verification_status': {'Not Verified': 0, 'Source Verified': 1,'Verified': 2},\n",
    "    'grade': {'A': 0, 'B': 1, 'C': 2, 'D': 3, 'E': 4, 'F': 5, 'G': 6},\n",
    "    'emp_length':{'10+ years': 10,'9 years': 9,'8 years': 8,'7 years': 7,'6 years': 6,\n",
    "        '5 years': 5,'4 years': 4,'3 years': 3,'2 years': 2,'1 year': 1,'< 1 year': 0}\n",
    "}\n",
    "\n",
    "# Aplicar el mapeo\n",
    "for col, mapping in maps.items():\n",
    "    df[col + '_num'] = df[col].map(mapping)\n",
    "    \n",
    "df.drop(columns=maps.keys(), inplace=True)\n"
   ]
  },
  {
   "cell_type": "markdown",
   "id": "949db8e8",
   "metadata": {},
   "source": [
    "### **Destring a fecha mm/yyyy**\n",
    "Transformación de variables tipo MM-YYYY en String, a dos variables tipo DateTime '_year' y '_month'"
   ]
  },
  {
   "cell_type": "code",
   "execution_count": 11,
   "id": "44b96aee",
   "metadata": {
    "tags": [
     "hide-cell"
    ]
   },
   "outputs": [],
   "source": [
    "# Convertir columnas de fecha y extraer año y mes\n",
    "date_cols = ['issue_d', 'earliest_cr_line', 'last_pymnt_d', 'last_credit_pull_d']\n",
    "\n",
    "for col in date_cols:\n",
    "    df[col] = pd.to_datetime(df[col], format=\"%b-%Y\", errors='coerce')\n",
    "# generar año y mes en un solo paso y concatenar\n",
    "new_features = pd.concat(\n",
    "    [df[col].dt.year.rename(col + \"_year\") for col in date_cols] +\n",
    "    [df[col].dt.month.rename(col + \"_month\") for col in date_cols],\n",
    "    axis=1\n",
    ")\n",
    "\n",
    "# concatenar con el dataframe original y eliminar las columnas originales\n",
    "df = pd.concat([df.drop(columns=date_cols), new_features], axis=1)"
   ]
  },
  {
   "cell_type": "markdown",
   "id": "7f6cbd67",
   "metadata": {},
   "source": [
    "### **Eliminación de variables identificadoras**\n",
    "Códigos únicos que no aportan información predictiva"
   ]
  },
  {
   "cell_type": "code",
   "execution_count": 12,
   "id": "222d228e",
   "metadata": {
    "tags": [
     "hide-cell"
    ]
   },
   "outputs": [],
   "source": [
    "df = df.drop(columns=['id','url','emp_title','title', 'zip_code','addr_state',\n",
    "                      'member_id', 'policy_code', 'desc', ])"
   ]
  },
  {
   "cell_type": "markdown",
   "id": "38c80de5",
   "metadata": {},
   "source": [
    "### **Descarte de variables**"
   ]
  },
  {
   "cell_type": "markdown",
   "id": "bcc39635",
   "metadata": {},
   "source": [
    "* **Variables con único valor**"
   ]
  },
  {
   "cell_type": "code",
   "execution_count": 13,
   "id": "29dee78f",
   "metadata": {
    "tags": [
     "hide-cell"
    ]
   },
   "outputs": [],
   "source": [
    "# Filtra columnas con un único valor\n",
    "cols_unicas = df.columns[df.nunique() == 1].tolist()\n",
    "df = df.drop(cols_unicas, axis=1)"
   ]
  },
  {
   "cell_type": "code",
   "execution_count": 14,
   "id": "dbcee107",
   "metadata": {
    "tags": [
     "hide-cell"
    ]
   },
   "outputs": [],
   "source": [
    "df['loan_gap'] = df['loan_amnt']-df['funded_amnt']\n",
    "df.drop(columns='loan_amnt', inplace=True)"
   ]
  },
  {
   "cell_type": "markdown",
   "id": "fa34f628",
   "metadata": {},
   "source": [
    "* **Variables dificles de imputar - redundantes**"
   ]
  },
  {
   "cell_type": "code",
   "execution_count": 15,
   "id": "ae61f4cf",
   "metadata": {
    "tags": [
     "hide-cell"
    ]
   },
   "outputs": [],
   "source": [
    "# Eliminación de variables \n",
    "\n",
    "# Variales temporales dificiles de imputar\n",
    "antig = ['mo_sin_old_il_acct', 'mo_sin_old_rev_tl_op','mo_sin_rcnt_rev_tl_op', \n",
    "         'mo_sin_rcnt_tl', 'acc_open_past_24mths']\n",
    "\n",
    "# Limites y saldos financieros\n",
    "limites = ['avg_cur_bal', 'tot_cur_bal', 'total_il_high_credit_limit', \n",
    "           'total_rev_hi_lim', 'bc_open_to_buy', 'total_bal_ex_mort', \n",
    "           'total_bc_limit']\n",
    "\n",
    "# Utilizacion y comportamiento crediticio\n",
    "utilizacion = ['bc_util', 'percent_bc_gt_75','open_acc']\n",
    "\n",
    "# Morosidad y eventos negativos\n",
    "mora = ['num_tl_120dpd_2m', 'num_tl_90g_dpd_24m', 'num_tl_30dpd', \n",
    "        'num_accts_ever_120_pd', 'tax_liens', 'pub_rec']\n",
    "\n",
    "# Número de cuentas y actividad\n",
    "activi =    ['num_rev_accts', 'num_il_tl', 'num_rev_tl_bal_gt_0','num_sats',\n",
    "            'num_actv_bc_tl', 'num_bc_tl', 'num_op_rev_tl', 'num_actv_rev_tl','inq_last_6mths']\n",
    "# Eliminar columnas originales de scores\n",
    "df.drop(columns=antig + limites + utilizacion + mora + activi, inplace=True)\n"
   ]
  },
  {
   "cell_type": "markdown",
   "id": "d30ef203",
   "metadata": {},
   "source": [
    "* **Eliminación de variables post-default**"
   ]
  },
  {
   "cell_type": "code",
   "execution_count": 16,
   "id": "d993513c",
   "metadata": {
    "tags": [
     "hide-cell"
    ]
   },
   "outputs": [],
   "source": [
    "df.drop(columns =['last_pymnt_amnt','recoveries', 'collection_recovery_fee',\n",
    "                  'total_pymnt', 'total_rec_prncp', 'total_rec_int', 'total_rec_late_fee',\n",
    "                  'last_pymnt_d_year', 'last_pymnt_d_month',\n",
    "                  'last_credit_pull_d_year', 'last_credit_pull_d_month', 'last_fico_range_mean',\n",
    "                  ], inplace=True)"
   ]
  },
  {
   "cell_type": "code",
   "execution_count": 17,
   "id": "45db97c4",
   "metadata": {
    "tags": [
     "remove-cell"
    ]
   },
   "outputs": [
    {
     "name": "stdout",
     "output_type": "stream",
     "text": [
      "Dimensiones luego del tratamiento inicial: (1345310, 92)\n"
     ]
    }
   ],
   "source": [
    "print(\"Dimensiones luego del tratamiento inicial:\", df.shape)"
   ]
  },
  {
   "cell_type": "markdown",
   "id": "cacc6a0d",
   "metadata": {},
   "source": [
    "## **Análisis de valores nulos**"
   ]
  },
  {
   "cell_type": "code",
   "execution_count": 18,
   "id": "e53f829a",
   "metadata": {
    "tags": [
     "remove-cell",
     "remove-input"
    ]
   },
   "outputs": [
    {
     "name": "stdout",
     "output_type": "stream",
     "text": [
      "Variables con valores faltantes: 68\n"
     ]
    }
   ],
   "source": [
    "# Conteo de variables con valores faltantes\n",
    "missing = df.isnull().sum().sort_values(ascending=False)\n",
    "missing = missing[missing > 0]\n",
    "print(\"Variables con valores faltantes:\", len(missing))"
   ]
  },
  {
   "cell_type": "markdown",
   "id": "88793667",
   "metadata": {},
   "source": [
    "* **Variables con más del 50% de datos perdidos**"
   ]
  },
  {
   "cell_type": "markdown",
   "id": "48939141",
   "metadata": {},
   "source": [
    "Se eliminaran por ser poco informativas y difíciles de imputar."
   ]
  },
  {
   "cell_type": "code",
   "execution_count": 19,
   "id": "4c4416cb",
   "metadata": {
    "tags": [
     "remove-input"
    ]
   },
   "outputs": [
    {
     "name": "stdout",
     "output_type": "stream",
     "text": [
      "Columnas con más del 50% de valores faltantes: 52\n"
     ]
    }
   ],
   "source": [
    "# Missing 50%\n",
    "missing = df.isnull().sum().sort_values(ascending=False)\n",
    "umbral = 0.5* len(df)\n",
    "faltan_50= missing[missing > umbral]\n",
    "print(\"Columnas con más del 50% de valores faltantes:\", len(faltan_50))\n",
    "\n",
    "df.drop(columns=faltan_50.index, inplace=True)"
   ]
  },
  {
   "cell_type": "markdown",
   "id": "e60b5e5c",
   "metadata": {},
   "source": [
    "* **Variables restantes con valores nulos**"
   ]
  },
  {
   "cell_type": "code",
   "execution_count": null,
   "id": "8c04f434",
   "metadata": {
    "tags": [
     "remove-input"
    ]
   },
   "outputs": [
    {
     "name": "stdout",
     "output_type": "stream",
     "text": [
      "Variables con valores faltantes: 16\n",
      "                            missing_count  percentage\n",
      "mths_since_recent_inq              174071   12.939100\n",
      "emp_length_num                      78511    5.835904\n",
      "pct_tl_nvr_dlq                      67681    5.030885\n",
      "tot_coll_amt                        67561    5.021965\n",
      "num_tl_op_past_12m                  67527    5.019438\n",
      "tot_hi_cred_lim                     67527    5.019438\n",
      "mths_since_recent_bc                60221    4.476366\n",
      "num_bc_sats                         55841    4.150791\n",
      "mort_acc                            47281    3.514506\n",
      "revol_util                            857    0.063703\n",
      "pub_rec_bankruptcies                  697    0.051810\n",
      "dti                                   414    0.030774\n",
      "chargeoff_within_12_mths               56    0.004163\n",
      "collections_12_mths_ex_med             56    0.004163\n",
      "revol_bal                              40    0.002973\n",
      "delinq_amnt                             1    0.000074\n"
     ]
    }
   ],
   "source": [
    "# Conteo de variables con valores faltantes\n",
    "missing = df.isnull().sum().sort_values(ascending=False)\n",
    "missing = missing[missing > 0]\n",
    "print(\"Variables con valores faltantes:\", len(missing))\n",
    "table = pd.DataFrame(missing, columns=['missing_count'])\n",
    "table['percentage'] = (table['missing_count'] / len(df)) * 100\n",
    "table.sort_values(by='percentage', ascending=False, inplace=True)\n",
    "table"
   ]
  },
  {
   "cell_type": "code",
   "execution_count": 21,
   "id": "7ecdc921",
   "metadata": {
    "tags": [
     "remove-input"
    ]
   },
   "outputs": [
    {
     "name": "stdout",
     "output_type": "stream",
     "text": [
      "Dimensiones finales del data frame: (1345310, 40)\n"
     ]
    }
   ],
   "source": [
    "print(\"Dimensiones finales del data frame:\", df.shape)"
   ]
  },
  {
   "cell_type": "markdown",
   "id": "4418e8d2",
   "metadata": {},
   "source": [
    "----------------"
   ]
  },
  {
   "cell_type": "code",
   "execution_count": 22,
   "id": "771f60ba",
   "metadata": {
    "tags": [
     "remove-cell"
    ]
   },
   "outputs": [],
   "source": [
    "# Renombrar variables\n",
    "variable_dict = {\n",
    "    \"prestamo\": {\n",
    "        \"funded_amnt\": \"monto_aprobado\",\n",
    "        \"int_rate\": \"tasa_interes\",\n",
    "        \"installment\": \"cuota_mensual\",\n",
    "        \"term_num\": \"plazo_meses\",\n",
    "        \"purpose\": \"motivo_prestamo\",\n",
    "        \"disbursement_method_num\": \"metodo_desembolso\",\n",
    "        \"initial_list_status_num\": \"estado_inicial_listado\",\n",
    "        \"application_type_num\": \"tipo_aplicacion\",\n",
    "        \"loan_gap\" : 'diferencia_monto_solicitado',\n",
    "    },\n",
    "    \"prestatario\": {\n",
    "        \"annual_inc\": \"ingreso_anual\",\n",
    "        \"home_ownership\": \"tipo_vivienda\",\n",
    "        \"emp_length_num\": \"antiguedad_laboral\",\n",
    "        \"verification_status_num\": \"estado_verif_ingreso\"\n",
    "    },\n",
    "    \"historial_crediticio\": {\n",
    "        \"fico_range_mean\": \"promedio_fico\",\n",
    "        \"earliest_cr_line_year\": \"anio_apertura_credito\",\n",
    "        \"earliest_cr_line_month\": \"mes_apertura_credito\",\n",
    "        \"mort_acc\": \"cuentas_hipotecarias\",\n",
    "        \"total_acc\": \"total_cuentas_credito\",\n",
    "        \"num_bc_sats\": \"cuentas_tarjeta_credito\",\n",
    "        \"revol_bal\": \"saldo_revolvente\",\n",
    "        \"revol_util\": \"uso_credito_revolvente\",\n",
    "        \"tot_hi_cred_lim\": \"limite_credito_total\"\n",
    "    },\n",
    "    \"comportamiento_prestatario\": {\n",
    "        \"mths_since_recent_inq\": \"meses_ultima_consulta\",\n",
    "        \"mths_since_recent_bc\": \"meses_tarjeta_nueva\",\n",
    "        \"mths_since_recent_revol_delinq\": \"meses_mora_revolvente\",\n",
    "        \"num_tl_op_past_12m\": \"lineas_credito_12m\",\n",
    "        \"pct_tl_nvr_dlq\": \"porcentaje_sin_moras\"\n",
    "    },\n",
    "    \"morosidad_riesgo\": {\n",
    "        \"delinq_2yrs\": \"moras_2_year\",\n",
    "        \"mths_since_last_delinq\": \"meses_ultima_mora\",\n",
    "        \"delinq_amnt\": \"monto_mora\",\n",
    "        \"chargeoff_within_12_mths\": \"castigos_12m\",\n",
    "        \"collections_12_mths_ex_med\": \"cobranzas_12m\",\n",
    "        \"acc_now_delinq\": \"cuentas_en_mora_actual\",\n",
    "        \"tot_coll_amt\": \"monto_total_cobranzas\",\n",
    "        \"pub_rec_bankruptcies\": \"quiebras_publicas\",\n",
    "        \"debt_settlement_flag\": \"tuvo_acuerdo_pago\"\n",
    "    },\n",
    "    \"tecnicas_control\": {\n",
    "        \"grade_num\": \"categoria_credito\",\n",
    "        \"sub_grade_num\": \"subcategoria_credito\",\n",
    "        \"issue_d_year\": \"anio_emision_prestamo\",\n",
    "        \"issue_d_month\": \"mes_emision_prestamo\"\n",
    "    }\n",
    "}\n",
    "# Combinar todos los subdiccionarios en uno solo y renombrar columnas\n",
    "rename_map = {k: v for group in variable_dict.values() for k, v in group.items()}\n",
    "df.rename(columns=rename_map, inplace=True)"
   ]
  },
  {
   "cell_type": "markdown",
   "id": "ce2823f1",
   "metadata": {},
   "source": [
    "## Información final del dataset"
   ]
  },
  {
   "cell_type": "code",
   "execution_count": 23,
   "id": "97426507",
   "metadata": {
    "tags": [
     "remove-input"
    ]
   },
   "outputs": [
    {
     "name": "stdout",
     "output_type": "stream",
     "text": [
      "<class 'pandas.core.frame.DataFrame'>\n",
      "Index: 1345310 entries, 0 to 2260697\n",
      "Data columns (total 40 columns):\n",
      " #   Column                       Non-Null Count    Dtype  \n",
      "---  ------                       --------------    -----  \n",
      " 0   cuentas_en_mora_actual       1345310 non-null  float64\n",
      " 1   ingreso_anual                1345310 non-null  float64\n",
      " 2   castigos_12m                 1345254 non-null  float64\n",
      " 3   cobranzas_12m                1345254 non-null  float64\n",
      " 4   tuvo_acuerdo_pago            1345310 non-null  int64  \n",
      " 5   default                      1345310 non-null  int64  \n",
      " 6   moras_2_year                 1345310 non-null  float64\n",
      " 7   monto_mora                   1345309 non-null  float64\n",
      " 8   dti                          1344896 non-null  float64\n",
      " 9   monto_aprobado               1345310 non-null  float64\n",
      " 10  tipo_vivienda                1345310 non-null  object \n",
      " 11  cuota_mensual                1345310 non-null  float64\n",
      " 12  tasa_interes                 1345310 non-null  float64\n",
      " 13  cuentas_hipotecarias         1298029 non-null  float64\n",
      " 14  meses_tarjeta_nueva          1285089 non-null  float64\n",
      " 15  meses_ultima_consulta        1171239 non-null  float64\n",
      " 16  cuentas_tarjeta_credito      1289469 non-null  float64\n",
      " 17  lineas_credito_12m           1277783 non-null  float64\n",
      " 18  porcentaje_sin_moras         1277629 non-null  float64\n",
      " 19  quiebras_publicas            1344613 non-null  float64\n",
      " 20  motivo_prestamo              1345310 non-null  object \n",
      " 21  saldo_revolvente             1345270 non-null  float64\n",
      " 22  uso_credito_revolvente       1344453 non-null  float64\n",
      " 23  monto_total_cobranzas        1277749 non-null  float64\n",
      " 24  limite_credito_total         1277783 non-null  float64\n",
      " 25  total_cuentas_credito        1345310 non-null  float64\n",
      " 26  promedio_fico                1345310 non-null  float64\n",
      " 27  subcategoria_credito         1345310 non-null  int64  \n",
      " 28  plazo_meses                  1345310 non-null  int64  \n",
      " 29  estado_inicial_listado       1345310 non-null  int64  \n",
      " 30  tipo_aplicacion              1345310 non-null  int64  \n",
      " 31  metodo_desembolso            1345310 non-null  int64  \n",
      " 32  estado_verif_ingreso         1345310 non-null  int64  \n",
      " 33  categoria_credito            1345310 non-null  int64  \n",
      " 34  antiguedad_laboral           1266799 non-null  float64\n",
      " 35  anio_emision_prestamo        1345310 non-null  int32  \n",
      " 36  anio_apertura_credito        1345310 non-null  int32  \n",
      " 37  mes_emision_prestamo         1345310 non-null  int32  \n",
      " 38  mes_apertura_credito         1345310 non-null  int32  \n",
      " 39  diferencia_monto_solicitado  1345310 non-null  float64\n",
      "dtypes: float64(25), int32(4), int64(9), object(2)\n",
      "memory usage: 400.3+ MB\n"
     ]
    }
   ],
   "source": [
    "df.info()"
   ]
  },
  {
   "cell_type": "markdown",
   "id": "4d99a5ce",
   "metadata": {},
   "source": [
    "Al finalizar el preprocesamiento se obtienen 39 variables de estudio, más adelante se realiza una selección de variables de mayor importancia para la construcción del modelo. "
   ]
  },
  {
   "cell_type": "code",
   "execution_count": null,
   "id": "0901e5f4",
   "metadata": {
    "tags": [
     "remove-cell"
    ]
   },
   "outputs": [],
   "source": [
    "# Transformar a csv\n",
    "df.to_csv(\"data_lend.csv\", index=False)"
   ]
  }
 ],
 "metadata": {
  "kernelspec": {
   "display_name": "MACHINE",
   "language": "python",
   "name": "python3"
  },
  "language_info": {
   "codemirror_mode": {
    "name": "ipython",
    "version": 3
   },
   "file_extension": ".py",
   "mimetype": "text/x-python",
   "name": "python",
   "nbconvert_exporter": "python",
   "pygments_lexer": "ipython3",
   "version": "3.10.18"
  }
 },
 "nbformat": 4,
 "nbformat_minor": 5
}
