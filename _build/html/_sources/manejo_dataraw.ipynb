{
 "cells": [
  {
   "cell_type": "markdown",
   "id": "2238b59a",
   "metadata": {},
   "source": [
    "# **Preprocesamiento de datos**"
   ]
  },
  {
   "cell_type": "code",
   "execution_count": 23,
   "id": "46d08d28",
   "metadata": {
    "tags": [
     "remove_cell"
    ]
   },
   "outputs": [],
   "source": [
    "# Librerias\n",
    "import pandas as pd\n",
    "import numpy as np"
   ]
  },
  {
   "cell_type": "code",
   "execution_count": null,
   "id": "23e02d2f",
   "metadata": {},
   "outputs": [],
   "source": [
    "import tensorflow as tf\n",
    "\n",
    "print(\"GPU disponible:\", tf.config.list_physical_devices('GPU'))\n"
   ]
  },
  {
   "cell_type": "code",
   "execution_count": 31,
   "id": "4075cf27",
   "metadata": {
    "tags": [
     "remove_cell"
    ]
   },
   "outputs": [
    {
     "name": "stdout",
     "output_type": "stream",
     "text": [
      "Dimensiones del DataFrame original: (2260701, 151)\n"
     ]
    }
   ],
   "source": [
    "# Lectura del dataset original\n",
    "file = r\"C:\\Users\\Hp\\Downloads\\accepted_2007_to_2018Q4.csv\\accepted_2007_to_2018Q4.csv\"\n",
    "df = pd.read_csv(file, low_memory=False)\n",
    "print(\"Dimensiones del DataFrame original:\", df.shape)"
   ]
  },
  {
   "cell_type": "markdown",
   "id": "7cdefa55",
   "metadata": {},
   "source": [
    "## **Reducción del dataset a la variable objetivo**\n",
    "1. Definición de la variable objetivo `default`. \n",
    "2. Se filtran las filas donde `loan_status` es _Charged Off_ o _Fully Paid_.\n",
    "3. Aseguramos que solo estas dos categorías estén presentes en loan_status\n",
    "4. Se fija: (1) _Default_ (0) _Fully Paid_\n",
    "5. Eliminamos la columna `loan_status` y creamos una nueva columna `default`\n"
   ]
  },
  {
   "cell_type": "code",
   "execution_count": 25,
   "id": "7d515289",
   "metadata": {},
   "outputs": [
    {
     "name": "stdout",
     "output_type": "stream",
     "text": [
      "Dimensiones del DataFrame con la variable original (1345310, 151)\n"
     ]
    }
   ],
   "source": [
    "# Definición de la variable objetivo `default`\n",
    "\n",
    "df = df[df['loan_status'].isin(['Charged Off', 'Fully Paid'])].copy()\n",
    "df['default'] = df['loan_status'].apply(lambda x: 1 if x == 'Charged Off' else 0)\n",
    "df.drop(columns=['loan_status'], inplace=True)\n",
    "print(\"Dimensiones del DataFrame con la variable original\", df.shape)"
   ]
  },
  {
   "cell_type": "code",
   "execution_count": 26,
   "id": "d0e2c84f",
   "metadata": {},
   "outputs": [
    {
     "name": "stdout",
     "output_type": "stream",
     "text": [
      "Información del DataFrame:\n",
      "<class 'pandas.core.frame.DataFrame'>\n",
      "Index: 1345310 entries, 0 to 2260697\n",
      "Columns: 151 entries, id to default\n",
      "dtypes: float64(113), int64(1), object(37)\n",
      "memory usage: 1.5+ GB\n"
     ]
    }
   ],
   "source": [
    "print(\"Información del DataFrame:\")\n",
    "df.info()"
   ]
  },
  {
   "cell_type": "markdown",
   "id": "1762fd57",
   "metadata": {},
   "source": [
    "## **Tratamiento de variables**"
   ]
  },
  {
   "cell_type": "markdown",
   "id": "7f6cbd67",
   "metadata": {},
   "source": [
    "### _Transformación y agregación_"
   ]
  },
  {
   "cell_type": "markdown",
   "id": "e6b1848b",
   "metadata": {},
   "source": [
    "#### **Codificación Dummy**\n",
    "\n",
    "Codificación de variables tipo objeto de dos o tres categorias como variables dummy. Se eliminan del dataset las variables tipo objeto.\n",
    "\n",
    "Conversion a variables dummy:\n",
    "|   Variable    |   Categorías  |   Codificación |\n",
    "|---------------|---------------|----------------|\n",
    "| `debt_settlement_flag`  | 'Y' - 'N'     | 1 - 0          |\n",
    "| `term`        | '36 months' - '60 months'  | 0-1 |\n",
    "| `initial_list_status` | 'w' - 'f'          | 0-1 |\n",
    "| `application_type`    | 'Individual' - 'Joint App' | 0-1          |\n",
    "| `disbursement_method` | 'Cash' - 'DirectPay'` | 0-1                |\n",
    "| `verification_status` | 'Not Verified' - 'Source Verified' - 'Verified' | 0-1-2                   |"
   ]
  },
  {
   "cell_type": "code",
   "execution_count": null,
   "id": "31511dfa",
   "metadata": {},
   "outputs": [],
   "source": [
    "#Variables binarias con Y/N o y/n\n",
    "df['had_settlement'] = df['debt_settlement_flag'].apply(lambda x: 1 if x=='Y' else 0)\n",
    "\n",
    "# Diccionarios de mapeo para variables binarias categoricas\n",
    "binary_maps = {\n",
    "    'term': {' 36 months': 0, ' 60 months': 1},\n",
    "    'initial_list_status': {'w': 0, 'f': 1},\n",
    "    'application_type': {'Individual': 0, 'Joint App': 1},\n",
    "    'disbursement_method': {'Cash': 0, 'DirectPay': 1},\n",
    "    'verification_status': {'Not Verified': 0, 'Source Verified': 1,'Verified': 2},\n",
    "}\n",
    "# Aplicar el mapeo\n",
    "for col, mapping in binary_maps.items():\n",
    "    df[col + '_num'] = df[col].map(mapping)"
   ]
  },
  {
   "cell_type": "code",
   "execution_count": 6,
   "id": "455af6a1",
   "metadata": {},
   "outputs": [],
   "source": [
    "# Eliminar columnas originales\n",
    "df.drop(columns=['pymnt_plan', 'hardship_flag', 'debt_settlement_flag'], inplace=True)\n",
    "df.drop(columns=binary_maps.keys(), inplace=True)"
   ]
  },
  {
   "cell_type": "markdown",
   "id": "ccdd6055",
   "metadata": {},
   "source": [
    "#### **Variables de inversor**\n",
    "Las variables '_inv' representan un valor dado por la perspectiva de inversores. Se cambia por la diferencia entre el valor original y el sugerido."
   ]
  },
  {
   "cell_type": "code",
   "execution_count": 7,
   "id": "b82b70e3",
   "metadata": {},
   "outputs": [],
   "source": [
    "# Lista de columnas que terminan en _inv\n",
    "inv_cols = [col for col in df.columns if col.endswith('_inv')]\n",
    "\n",
    "# Eliminarlas\n",
    "df.drop(columns=inv_cols, inplace=True)\n"
   ]
  },
  {
   "cell_type": "markdown",
   "id": "1011d525",
   "metadata": {},
   "source": [
    "#### **Variables _low y _high**\n",
    "Representan los limites entre rangos de un cliente. Se toma la media entre los valores."
   ]
  },
  {
   "cell_type": "code",
   "execution_count": 8,
   "id": "544e8a2c",
   "metadata": {},
   "outputs": [
    {
     "name": "stdout",
     "output_type": "stream",
     "text": [
      "['fico_range_mean', 'last_fico_range_mean', 'sec_app_fico_range_mean']\n"
     ]
    }
   ],
   "source": [
    "# Buscar todas las columnas que terminan en _low\n",
    "low_cols = [col for col in df.columns if col.endswith('_low')]\n",
    "\n",
    "for low_col in low_cols:\n",
    "    high_col = low_col.replace('_low', '_high')\n",
    "    if high_col in df.columns:\n",
    "        # Crear columna promedio\n",
    "        mean_col = low_col.replace('_low', '_mean')\n",
    "        df[mean_col] = np.round((df[low_col] + df[high_col]) / 2, 2)\n",
    "        df.drop(columns=[low_col, high_col], inplace=True)\n",
    "\n",
    "# Verificar las nuevas columnas\n",
    "print([col for col in df.columns if col.endswith('_mean')])\n"
   ]
  },
  {
   "cell_type": "markdown",
   "id": "49c6f3fc",
   "metadata": {},
   "source": [
    "#### Variable DTI"
   ]
  },
  {
   "cell_type": "code",
   "execution_count": 9,
   "id": "6c5cc527",
   "metadata": {},
   "outputs": [
    {
     "data": {
      "text/plain": [
       "dti\n",
       "False    1344401\n",
       "True         909\n",
       "Name: count, dtype: int64"
      ]
     },
     "execution_count": 9,
     "metadata": {},
     "output_type": "execute_result"
    }
   ],
   "source": [
    "# Reemplazar -1 y 999 por NaN\n",
    "df['dti'] = df['dti'].replace([-1, 999], np.nan)\n",
    "df.loc[df['dti'] > 100, 'dti'] = np.nan\n",
    "df['dti'].isna().value_counts()\n"
   ]
  },
  {
   "cell_type": "markdown",
   "id": "255af4ea",
   "metadata": {},
   "source": [
    "#### **Variables tipo objeto**"
   ]
  },
  {
   "cell_type": "code",
   "execution_count": 10,
   "id": "e0fa24a9",
   "metadata": {},
   "outputs": [],
   "source": [
    "# Extraer el número de sub_grade y obtener el número de sub_grade\n",
    "df['sub_grade_num'] = df['sub_grade'].str[1].astype(int)\n",
    "df.drop(columns=['sub_grade'], inplace=True)"
   ]
  },
  {
   "cell_type": "markdown",
   "id": "949db8e8",
   "metadata": {},
   "source": [
    "#### **Tipo fecha**\n",
    "Transformación de variables tipo MM-YYYY en String, a dos variables tipo DateTime '_year' y '_month'"
   ]
  },
  {
   "cell_type": "code",
   "execution_count": 11,
   "id": "44b96aee",
   "metadata": {},
   "outputs": [],
   "source": [
    "# Convertir columnas de fecha y extraer año y mes\n",
    "date_cols = ['issue_d', 'earliest_cr_line', 'last_pymnt_d', 'last_credit_pull_d']\n",
    "for col in date_cols:\n",
    "    df[col] = pd.to_datetime(df[col], format=\"%b-%Y\", errors='coerce')\n",
    "# generar año y mes en un solo paso y concatenar\n",
    "new_features = pd.concat(\n",
    "    [df[col].dt.year.rename(col + \"_year\") for col in date_cols] +\n",
    "    [df[col].dt.month.rename(col + \"_month\") for col in date_cols],\n",
    "    axis=1\n",
    ")\n",
    "\n",
    "# concatenar con el dataframe original y eliminar las columnas originales\n",
    "df = pd.concat([df.drop(columns=date_cols), new_features], axis=1)"
   ]
  },
  {
   "cell_type": "markdown",
   "id": "a260a350",
   "metadata": {},
   "source": [
    "#### **Variables de frecuencia de tiempo**\n",
    "Mapeo y transformación a variable tipo numérica"
   ]
  },
  {
   "cell_type": "code",
   "execution_count": 12,
   "id": "dbea6d06",
   "metadata": {},
   "outputs": [],
   "source": [
    "# Creamos un diccionario de mapeo\n",
    "emp_map = {\n",
    "    '10+ years': 10,\n",
    "    '9 years': 9,\n",
    "    '8 years': 8,\n",
    "    '7 years': 7,\n",
    "    '6 years': 6,\n",
    "    '5 years': 5,\n",
    "    '4 years': 4,\n",
    "    '3 years': 3,\n",
    "    '2 years': 2,\n",
    "    '1 year': 1,\n",
    "    '< 1 year': 0,\n",
    "    np.nan: -1,  # Asignamos NaN a 'n/a'\n",
    "}\n",
    "df['emp_length_num'] = df['emp_length'].map(emp_map)\n",
    "# Eliminamos la columna original\n",
    "df.drop(columns=['emp_length'], inplace=True)"
   ]
  },
  {
   "cell_type": "markdown",
   "id": "71d5600c",
   "metadata": {},
   "source": [
    "#### creacion de variables representativas"
   ]
  },
  {
   "cell_type": "code",
   "execution_count": 13,
   "id": "0b8c1889",
   "metadata": {},
   "outputs": [],
   "source": [
    "# Agregacion y eliminacion \n",
    "df['payment_effiency'] = df['total_rec_prncp']/df['total_pymnt']\n",
    "df['loan_gap'] = df['loan_amnt'] - df['funded_amnt']\n",
    "\n",
    "\n",
    "df.drop(columns=['collection_recovery_fee','loan_amnt',\n",
    "                 'open_acc',\n",
    "                 'avg_cur_bal', 'pub_rec', 'mths_since_rcnt_il'\n",
    "                 ], inplace=True)"
   ]
  },
  {
   "cell_type": "markdown",
   "id": "2c12d59f",
   "metadata": {},
   "source": [
    "### _Eliminación de variables identificadoras_\n",
    "Se eliminan las variables que permiten diferenciar entre cada registro como 'id', 'url', 'member:id'"
   ]
  },
  {
   "cell_type": "code",
   "execution_count": 14,
   "id": "2a58f16b",
   "metadata": {},
   "outputs": [],
   "source": [
    "df = df.drop(columns=['id','url','emp_title','member_id', 'title', 'zip_code','addr_state',\n",
    "                      'member_id', 'policy_code'])\n"
   ]
  },
  {
   "cell_type": "markdown",
   "id": "3385ed84",
   "metadata": {},
   "source": [
    "-----------------"
   ]
  },
  {
   "cell_type": "markdown",
   "id": "cacc6a0d",
   "metadata": {},
   "source": [
    "### _Valores nulos_"
   ]
  },
  {
   "cell_type": "code",
   "execution_count": 15,
   "id": "e53f829a",
   "metadata": {},
   "outputs": [
    {
     "name": "stdout",
     "output_type": "stream",
     "text": [
      "Variables con valores faltantes: 100\n"
     ]
    }
   ],
   "source": [
    "# Conteo de variables con valores faltantes\n",
    "missing = df.isnull().sum().sort_values(ascending=False)\n",
    "missing = missing[missing > 0]\n",
    "print(\"Variables con valores faltantes:\", len(missing))"
   ]
  },
  {
   "cell_type": "markdown",
   "id": "88793667",
   "metadata": {},
   "source": [
    "#### **Variables con más del 70% de datos perdidos**\n",
    "Se eliminaran por ser poco informativas y difíciles de imputar.\\\n",
    "Variables como 'pymnt', 'hardship', 'settlement', representadas por el booleano anteriormente codificado."
   ]
  },
  {
   "cell_type": "code",
   "execution_count": 16,
   "id": "4c4416cb",
   "metadata": {},
   "outputs": [
    {
     "name": "stdout",
     "output_type": "stream",
     "text": [
      "Columnas con más del 70% de valores faltantes: 40\n"
     ]
    }
   ],
   "source": [
    "# Missing 70%\n",
    "missing = df.isnull().sum().sort_values(ascending=False)\n",
    "umbral = 0.7 * len(df)\n",
    "faltan_70= missing[missing > umbral]\n",
    "print(\"Columnas con más del 70% de valores faltantes:\", len(faltan_70))\n",
    "\n",
    "df.drop(columns=faltan_70.index, inplace=True)"
   ]
  },
  {
   "cell_type": "markdown",
   "id": "de07215e",
   "metadata": {},
   "source": [
    "#### **Variables meses desde**\n",
    "\n",
    "Las variables que indican meses desde alguna acción.\n",
    "Si existen NA si no tienen acción se llenan como -1 para indicar que no paso o no es el caso"
   ]
  },
  {
   "cell_type": "code",
   "execution_count": 17,
   "id": "29a17f1a",
   "metadata": {},
   "outputs": [
    {
     "name": "stdout",
     "output_type": "stream",
     "text": [
      "Variables que contienen 'since': ['mths_since_last_delinq', 'mths_since_recent_bc', 'mths_since_recent_inq', 'mths_since_recent_revol_delinq']\n"
     ]
    }
   ],
   "source": [
    "# Variable since_last\n",
    "since_last = [col for col in df.columns if 'since' in col.lower()]\n",
    "print(\"Variables que contienen 'since':\", since_last)\n",
    "# Imputar valores faltantes en las variables 'since_last' con -1\n",
    "df[since_last] = df[since_last].fillna(-1)\n"
   ]
  },
  {
   "cell_type": "markdown",
   "id": "1e132ea5",
   "metadata": {},
   "source": [
    "#### **Variables con más del 50% de datos perdidos**\n",
    "Se agrupan variables por tipo, codificando como flags y un resumen por categorías."
   ]
  },
  {
   "cell_type": "code",
   "execution_count": 18,
   "id": "7bbe43d1",
   "metadata": {},
   "outputs": [
    {
     "name": "stdout",
     "output_type": "stream",
     "text": [
      "Columnas con más del 50% de valores faltantes: 13\n"
     ]
    }
   ],
   "source": [
    "# Missing 50%\n",
    "missing = df.isnull().sum().sort_values(ascending=False)\n",
    "umbral = 0.5* len(df)\n",
    "faltan_50= missing[missing > umbral]\n",
    "print(\"Columnas con más del 50% de valores faltantes:\", len(faltan_50))"
   ]
  },
  {
   "cell_type": "markdown",
   "id": "b1a4dc1b",
   "metadata": {},
   "source": [
    "#### **Agrupación de variables por características**"
   ]
  },
  {
   "cell_type": "code",
   "execution_count": null,
   "id": "ae61f4cf",
   "metadata": {},
   "outputs": [],
   "source": [
    "#gruparon en los scores\n",
    "delinq_cols = ['num_tl_30dpd','num_accts_ever_120_pd']\n",
    "credit_hist_cols = ['mo_sin_old_il_acct','mo_sin_old_rev_tl_op','mo_sin_rcnt_rev_tl_op','mo_sin_rcnt_tl',\n",
    "                    'num_actv_rev_tl','num_actv_bc_tl','num_op_rev_tl','num_il_tl','num_bc_tl',\n",
    "                    'num_rev_accts','num_rev_tl_bal_gt_0','tot_cur_bal','total_il_high_credit_limit',\n",
    "                    'total_rev_hi_lim']\n",
    "balances_cols = ['percent_bc_gt_75','bc_open_to_buy','total_bal_ex_mort','total_bc_limit']\n",
    "recent_activity_cols = ['last_pymnt_d_month','last_pymnt_d_year',\n",
    "                        'last_credit_pull_d_month','last_credit_pull_d_year','inq_last_6mths']\n",
    "credit_util_cols = ['il_util']\n",
    "\n",
    "\n",
    "open_acc_cols = ['open_acc_6m', 'open_il_12m', 'open_il_24m', 'open_rv_24m']\n",
    "inq_cols = ['inq_last_12m', 'inq_fi']\n",
    "balance_cols = ['total_cu_tl']\n",
    "\n",
    "# Eliminar columnas originales de scores\n",
    "df.drop(columns=delinq_cols + credit_hist_cols + balances_cols + recent_activity_cols+ credit_util_cols + open_acc_cols + inq_cols + balance_cols, inplace=True)\n"
   ]
  },
  {
   "cell_type": "markdown",
   "id": "e60b5e5c",
   "metadata": {},
   "source": [
    "#### **Variables restantes con valores nulos**"
   ]
  },
  {
   "cell_type": "code",
   "execution_count": 20,
   "id": "8c04f434",
   "metadata": {},
   "outputs": [
    {
     "name": "stdout",
     "output_type": "stream",
     "text": [
      "Variables con valores faltantes: 23\n",
      "                            missing_count  percentage\n",
      "all_util                           807765   60.043038\n",
      "open_rv_12m                        807712   60.039099\n",
      "open_act_il                        807712   60.039099\n",
      "total_bal_il                       807712   60.039099\n",
      "max_bal_bc                         807712   60.039099\n",
      "num_tl_120dpd_2m                   117401    8.726688\n",
      "pct_tl_nvr_dlq                      67681    5.030885\n",
      "tot_coll_amt                        67527    5.019438\n",
      "num_tl_90g_dpd_24m                  67527    5.019438\n",
      "num_tl_op_past_12m                  67527    5.019438\n",
      "tot_hi_cred_lim                     67527    5.019438\n",
      "bc_util                             61912    4.602062\n",
      "num_bc_sats                         55841    4.150791\n",
      "num_sats                            55841    4.150791\n",
      "mort_acc                            47281    3.514506\n",
      "acc_open_past_24mths                47281    3.514506\n",
      "dti                                   909    0.067568\n",
      "revol_util                            857    0.063703\n",
      "payment_effiency                      844    0.062736\n",
      "pub_rec_bankruptcies                  697    0.051810\n",
      "collections_12_mths_ex_med             56    0.004163\n",
      "chargeoff_within_12_mths               56    0.004163\n",
      "tax_liens                              39    0.002899\n"
     ]
    }
   ],
   "source": [
    "# Conteo de variables con valores faltantes\n",
    "missing = df.isnull().sum().sort_values(ascending=False)\n",
    "missing = missing[missing > 0]\n",
    "print(\"Variables con valores faltantes:\", len(missing))\n",
    "table = pd.DataFrame(missing, columns=['missing_count'])\n",
    "table['percentage'] = (table['missing_count'] / len(df)) * 100\n",
    "table.sort_values(by='percentage', ascending=False, inplace=True)\n",
    "print(table)"
   ]
  },
  {
   "cell_type": "markdown",
   "id": "4418e8d2",
   "metadata": {},
   "source": [
    "----------------"
   ]
  },
  {
   "cell_type": "code",
   "execution_count": 21,
   "id": "97426507",
   "metadata": {},
   "outputs": [
    {
     "name": "stdout",
     "output_type": "stream",
     "text": [
      "<class 'pandas.core.frame.DataFrame'>\n",
      "Index: 1345310 entries, 0 to 2260697\n",
      "Data columns (total 64 columns):\n",
      " #   Column                          Non-Null Count    Dtype  \n",
      "---  ------                          --------------    -----  \n",
      " 0   funded_amnt                     1345310 non-null  float64\n",
      " 1   int_rate                        1345310 non-null  float64\n",
      " 2   installment                     1345310 non-null  float64\n",
      " 3   grade                           1345310 non-null  object \n",
      " 4   home_ownership                  1345310 non-null  object \n",
      " 5   annual_inc                      1345310 non-null  float64\n",
      " 6   purpose                         1345310 non-null  object \n",
      " 7   dti                             1344401 non-null  float64\n",
      " 8   delinq_2yrs                     1345310 non-null  float64\n",
      " 9   mths_since_last_delinq          1345310 non-null  float64\n",
      " 10  revol_bal                       1345310 non-null  float64\n",
      " 11  revol_util                      1344453 non-null  float64\n",
      " 12  total_acc                       1345310 non-null  float64\n",
      " 13  out_prncp                       1345310 non-null  float64\n",
      " 14  total_pymnt                     1345310 non-null  float64\n",
      " 15  total_rec_prncp                 1345310 non-null  float64\n",
      " 16  total_rec_int                   1345310 non-null  float64\n",
      " 17  total_rec_late_fee              1345310 non-null  float64\n",
      " 18  recoveries                      1345310 non-null  float64\n",
      " 19  last_pymnt_amnt                 1345310 non-null  float64\n",
      " 20  collections_12_mths_ex_med      1345254 non-null  float64\n",
      " 21  acc_now_delinq                  1345310 non-null  float64\n",
      " 22  tot_coll_amt                    1277783 non-null  float64\n",
      " 23  open_act_il                     537598 non-null   float64\n",
      " 24  total_bal_il                    537598 non-null   float64\n",
      " 25  open_rv_12m                     537598 non-null   float64\n",
      " 26  max_bal_bc                      537598 non-null   float64\n",
      " 27  all_util                        537545 non-null   float64\n",
      " 28  acc_open_past_24mths            1298029 non-null  float64\n",
      " 29  bc_util                         1283398 non-null  float64\n",
      " 30  chargeoff_within_12_mths        1345254 non-null  float64\n",
      " 31  delinq_amnt                     1345310 non-null  float64\n",
      " 32  mort_acc                        1298029 non-null  float64\n",
      " 33  mths_since_recent_bc            1345310 non-null  float64\n",
      " 34  mths_since_recent_inq           1345310 non-null  float64\n",
      " 35  mths_since_recent_revol_delinq  1345310 non-null  float64\n",
      " 36  num_bc_sats                     1289469 non-null  float64\n",
      " 37  num_sats                        1289469 non-null  float64\n",
      " 38  num_tl_120dpd_2m                1227909 non-null  float64\n",
      " 39  num_tl_90g_dpd_24m              1277783 non-null  float64\n",
      " 40  num_tl_op_past_12m              1277783 non-null  float64\n",
      " 41  pct_tl_nvr_dlq                  1277629 non-null  float64\n",
      " 42  pub_rec_bankruptcies            1344613 non-null  float64\n",
      " 43  tax_liens                       1345271 non-null  float64\n",
      " 44  tot_hi_cred_lim                 1277783 non-null  float64\n",
      " 45  default                         1345310 non-null  int64  \n",
      " 46  has_payment_plan                1345310 non-null  int64  \n",
      " 47  had_hardship                    1345310 non-null  int64  \n",
      " 48  had_settlement                  1345310 non-null  int64  \n",
      " 49  term_num                        1345310 non-null  int64  \n",
      " 50  initial_list_status_num         1345310 non-null  int64  \n",
      " 51  application_type_num            1345310 non-null  int64  \n",
      " 52  disbursement_method_num         1345310 non-null  int64  \n",
      " 53  verification_status_num         1345310 non-null  int64  \n",
      " 54  fico_range_mean                 1345310 non-null  float64\n",
      " 55  last_fico_range_mean            1345310 non-null  float64\n",
      " 56  sub_grade_num                   1345310 non-null  int64  \n",
      " 57  issue_d_year                    1345310 non-null  int32  \n",
      " 58  earliest_cr_line_year           1345310 non-null  int32  \n",
      " 59  issue_d_month                   1345310 non-null  int32  \n",
      " 60  earliest_cr_line_month          1345310 non-null  int32  \n",
      " 61  emp_length_num                  1345310 non-null  int64  \n",
      " 62  payment_effiency                1344466 non-null  float64\n",
      " 63  loan_gap                        1345310 non-null  float64\n",
      "dtypes: float64(46), int32(4), int64(11), object(3)\n",
      "memory usage: 646.6+ MB\n"
     ]
    }
   ],
   "source": [
    "df.info()"
   ]
  },
  {
   "cell_type": "code",
   "execution_count": 22,
   "id": "0901e5f4",
   "metadata": {},
   "outputs": [],
   "source": [
    "df.to_csv(\"data_lend.csv\", index=False)\n"
   ]
  }
 ],
 "metadata": {
  "kernelspec": {
   "display_name": "MACHINE",
   "language": "python",
   "name": "python3"
  },
  "language_info": {
   "codemirror_mode": {
    "name": "ipython",
    "version": 3
   },
   "file_extension": ".py",
   "mimetype": "text/x-python",
   "name": "python",
   "nbconvert_exporter": "python",
   "pygments_lexer": "ipython3",
   "version": "3.10.18"
  }
 },
 "nbformat": 4,
 "nbformat_minor": 5
}
